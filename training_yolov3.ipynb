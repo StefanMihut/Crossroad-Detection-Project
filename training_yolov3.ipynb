{
  "nbformat": 4,
  "nbformat_minor": 0,
  "metadata": {
    "colab": {
      "name": "crosswalk-detection.ipynb",
      "provenance": [],
      "collapsed_sections": []
    },
    "kernelspec": {
      "name": "python3",
      "display_name": "Python 3"
    },
    "language_info": {
      "name": "python"
    },
    "accelerator": "GPU",
    "gpuClass": "standard"
  },
  "cells": [
    {
      "cell_type": "code",
      "execution_count": null,
      "metadata": {
        "id": "0BnRhgTWt7c_"
      },
      "outputs": [],
      "source": [
        "from google.colab import drive\n",
        "drive.mount('/content/drive')"
      ]
    },
    {
      "cell_type": "code",
      "source": [
        "!ls '/content/drive/My Drive/yolo_model_training'"
      ],
      "metadata": {
        "id": "VATvtKgJuHaq"
      },
      "execution_count": null,
      "outputs": []
    },
    {
      "cell_type": "code",
      "source": [
        "!unzip '/content/drive/My Drive/yolo_model_training/training_10000_images.zip' -d '/content/drive/My Drive/yolo_model_training/'"
      ],
      "metadata": {
        "id": "OAdA7CcL_NAf"
      },
      "execution_count": null,
      "outputs": []
    },
    {
      "cell_type": "code",
      "source": [
        "!git clone https://github.com/AlexeyAB/darknet '/content/drive/My Drive/yolo_model_training/darknet'"
      ],
      "metadata": {
        "id": "n2jdn-usNUq_"
      },
      "execution_count": null,
      "outputs": []
    },
    {
      "cell_type": "code",
      "source": [
        "%cd /content/drive/My Drive/yolo_model_training/ "
      ],
      "metadata": {
        "id": "oBXjgVgt9CDD"
      },
      "execution_count": null,
      "outputs": []
    },
    {
      "cell_type": "code",
      "source": [
        "!python training_10000_images/create_files.py"
      ],
      "metadata": {
        "id": "_Pn49HLGExcu"
      },
      "execution_count": null,
      "outputs": []
    },
    {
      "cell_type": "code",
      "source": [
        "!python training_10000_images/create_train_test.py"
      ],
      "metadata": {
        "id": "M9XlAxTIH2Wt"
      },
      "execution_count": null,
      "outputs": []
    },
    {
      "cell_type": "code",
      "source": [
        "%cd /content/drive/My Drive/yolo_model_training/darknet"
      ],
      "metadata": {
        "id": "RSVOGC3WuY7T",
        "colab": {
          "base_uri": "https://localhost:8080/"
        },
        "outputId": "58f809f2-9a38-4f25-bc62-20d6df05bd8f"
      },
      "execution_count": null,
      "outputs": [
        {
          "output_type": "stream",
          "name": "stdout",
          "text": [
            "/content/drive/My Drive/yolo_model_training/darknet\n"
          ]
        }
      ]
    },
    {
      "cell_type": "code",
      "source": [
        "!sed -i 's/OPENCV=0/OPENCV=1/g' Makefile\n",
        "!sed -i 's/GPU=0/GPU=1/g' Makefile\n",
        "!sed -i 's/CUDNN=0/CUDNN=1/g' Makefile\n",
        "!sed -i \"s/ARCH= -gencode arch=compute_60,code=sm_60/ARCH= ${ARCH_VALUE}/g\" Makefile"
      ],
      "metadata": {
        "id": "TtJWqEXd0o8c"
      },
      "execution_count": null,
      "outputs": []
    },
    {
      "cell_type": "code",
      "source": [
        "!make"
      ],
      "metadata": {
        "id": "JIVyDx3uuclC"
      },
      "execution_count": null,
      "outputs": []
    },
    {
      "cell_type": "code",
      "source": [
        "%cd /content/drive/MyDrive/yolo_model_training"
      ],
      "metadata": {
        "id": "RmaT6u0RzUT-"
      },
      "execution_count": null,
      "outputs": []
    },
    {
      "cell_type": "code",
      "source": [
        "!darknet/darknet detector train training_10000_images/labelled_data.data darknet/cfg/custom_yolov3.cfg custom_weight/darknet53.conv.74 -dont_show -map"
      ],
      "metadata": {
        "id": "PgdsFP4Duo8D"
      },
      "execution_count": null,
      "outputs": []
    }
  ]
}