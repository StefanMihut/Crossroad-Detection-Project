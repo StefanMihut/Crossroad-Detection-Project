{
 "cells": [
  {
   "cell_type": "markdown",
   "id": "a02eaf63",
   "metadata": {},
   "source": [
    "# data cleaning\n"
   ]
  },
  {
   "cell_type": "code",
   "execution_count": null,
   "id": "dc82310a",
   "metadata": {},
   "outputs": [],
   "source": [
    "import pandas as pd\n",
    "import numpy as np\n",
    "import cv2"
   ]
  },
  {
   "cell_type": "code",
   "execution_count": null,
   "id": "61f43ac6",
   "metadata": {},
   "outputs": [],
   "source": [
    "import pandas as pd\n",
    "df = pd.read_csv('/home/soukaina/crosswalk_data/all_annotations_v2.csv')\n",
    "df"
   ]
  },
  {
   "cell_type": "code",
   "execution_count": null,
   "id": "d7984f33",
   "metadata": {},
   "outputs": [],
   "source": [
    "# drop R_Signal\n",
    "df.drop(df[df['label'] == 'R_Signal'].index, inplace = True)"
   ]
  },
  {
   "cell_type": "code",
   "execution_count": null,
   "id": "09939bd7",
   "metadata": {},
   "outputs": [],
   "source": [
    "#drop G_Signal\n",
    "\n",
    "df.drop(df[df['label'] == 'G_Signal'].index, inplace = True)"
   ]
  },
  {
   "cell_type": "code",
   "execution_count": null,
   "id": "87086874",
   "metadata": {},
   "outputs": [],
   "source": [
    "df"
   ]
  },
  {
   "cell_type": "code",
   "execution_count": null,
   "id": "1e0b7619",
   "metadata": {},
   "outputs": [],
   "source": [
    "#drop png images\n",
    "mask = np.char.endswith(df.to_numpy(dtype=str),'.png') # create ndarray with booleans\n",
    "indices_true = df[mask].index.unique() # Int64Index([0, 1, 6, 7], dtype='int64')\n",
    "df.drop(indices_true, inplace=True) # drop indices_true"
   ]
  },
  {
   "cell_type": "code",
   "execution_count": null,
   "id": "6277cd24",
   "metadata": {},
   "outputs": [],
   "source": [
    "#duplicated images\n",
    "ids = df[\"imagePath\"]\n",
    "df_duplicated=df[ids.isin(ids[ids.duplicated()])].sort_values(\"imagePath\")"
   ]
  },
  {
   "cell_type": "code",
   "execution_count": null,
   "id": "56671fbd",
   "metadata": {},
   "outputs": [],
   "source": [
    "df_duplicated"
   ]
  },
  {
   "cell_type": "code",
   "execution_count": null,
   "id": "fa0a3c5f",
   "metadata": {},
   "outputs": [],
   "source": [
    "#unique images\n",
    "len(df['imagePath'].unique())"
   ]
  },
  {
   "cell_type": "markdown",
   "id": "22b92d17",
   "metadata": {},
   "source": [
    "# Bounding Boxes/Roi images"
   ]
  },
  {
   "cell_type": "code",
   "execution_count": null,
   "id": "d9856673",
   "metadata": {},
   "outputs": [],
   "source": [
    "#creat subset\n",
    "new_df = df.head(5)\n",
    "new_df"
   ]
  },
  {
   "cell_type": "code",
   "execution_count": null,
   "id": "d1524e2e",
   "metadata": {},
   "outputs": [],
   "source": [
    "\n",
    "num = 0\n",
    "\n",
    "#loop on image path in all dataset\n",
    "for rec in new_df['imagePath']:\n",
    "    #get the coordinates from dataset\n",
    "    x = int(new_df.loc[new_df['imagePath'] == rec, 'xmin'].values[0])\n",
    "    y = int(new_df.loc[new_df['imagePath'] == rec, 'ymin'].values[0])\n",
    "    xmax = int(new_df.loc[new_df['imagePath'] == rec, 'xmax'].values[0])\n",
    "    ymax = int(new_df.loc[new_df['imagePath'] == rec, 'ymax'].values[0])\n",
    "    \n",
    "    #calculate the height and width\n",
    "    w=xmax-x\n",
    "    h=ymax-y\n",
    "    \n",
    "    #read image path\n",
    "    image = cv2.imread(\"/media/soukaina/60e39ea7-47c9-4d04-bb64-bfa6df74089f/adham/all_images/{}\".format(rec))\n",
    "    \n",
    "    #get ROI\n",
    "    ROI = image[y:y+h, x:x+w]\n",
    "    \n",
    "    #create and save ROI image\n",
    "    cv2.imwrite('ROI_{}.jpg'.format(num), ROI)\n",
    "    num += 1\n",
    "    cv2.imshow('ROI', ROI)\n"
   ]
  },
  {
   "cell_type": "code",
   "execution_count": null,
   "id": "3a392dc6",
   "metadata": {},
   "outputs": [],
   "source": []
  }
 ],
 "metadata": {
  "kernelspec": {
   "display_name": "Python 3 (ipykernel)",
   "language": "python",
   "name": "python3"
  },
  "language_info": {
   "codemirror_mode": {
    "name": "ipython",
    "version": 3
   },
   "file_extension": ".py",
   "mimetype": "text/x-python",
   "name": "python",
   "nbconvert_exporter": "python",
   "pygments_lexer": "ipython3",
   "version": "3.8.10"
  }
 },
 "nbformat": 4,
 "nbformat_minor": 5
}
