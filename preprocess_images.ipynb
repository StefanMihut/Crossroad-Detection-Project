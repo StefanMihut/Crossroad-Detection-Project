{
 "cells": [
  {
   "cell_type": "markdown",
   "id": "742ac418",
   "metadata": {},
   "source": [
    "# Edge Detection and Image Gradients\n"
   ]
  },
  {
   "cell_type": "code",
   "execution_count": null,
   "id": "b903f8a9",
   "metadata": {},
   "outputs": [],
   "source": [
    "import cv2\n",
    "import matplotlib.pyplot as plt\n",
    "import numpy as np"
   ]
  },
  {
   "cell_type": "code",
   "execution_count": null,
   "id": "4eb9a923",
   "metadata": {},
   "outputs": [],
   "source": [
    "\n",
    "image = cv2.imread('/home/soukaina/crosswalk_data/all_images/MP_KSC_001244.jpg')\n",
    "image = cv2.cvtColor(image, cv2.COLOR_BGR2RGB)\n",
    "hgt, wdt,_ = image.shape\n",
    "# Sobel Edges\n",
    "x_sobel = cv2.Sobel(image, cv2.CV_64F, 0, 1, ksize=5)\n",
    "y_sobel = cv2.Sobel(image, cv2.CV_64F, 1, 0, ksize=5)\n",
    "plt.figure(figsize=(20, 20))\n",
    "plt.subplot(3, 2, 1)\n",
    "plt.title(\"Original\")\n",
    "plt.imshow(image)\n",
    "plt.subplot(3, 2, 2)\n",
    "plt.title(\"Sobel X\")\n",
    "plt.imshow(x_sobel)\n",
    "plt.subplot(3, 2, 3)\n",
    "plt.title(\"Sobel Y\")\n",
    "plt.imshow(y_sobel)\n",
    "sobel_or = cv2.bitwise_or(x_sobel, y_sobel)\n",
    "plt.subplot(3, 2, 4)\n",
    "plt.imshow(sobel_or)\n",
    "laplacian = cv2.Laplacian(image, cv2.CV_64F)\n",
    "plt.subplot(3, 2, 5)\n",
    "plt.title(\"Laplacian\")\n",
    "plt.imshow(laplacian)\n",
    "## There are two values: threshold1 and threshold2.\n",
    "## Those gradients that are greater than threshold2 => considered as an edge\n",
    "## Those gradients that are below threshold1 => considered not to be an edge.\n",
    "## Those gradients Values that are in between threshold1 and threshold2 => either classiﬁed as edges or non-edges\n",
    "# The first threshold gradient\n",
    "canny = cv2.Canny(image, 50, 120)\n",
    "plt.subplot(3, 2, 6)\n",
    "plt.imshow(canny)"
   ]
  },
  {
   "cell_type": "markdown",
   "id": "bcb3edf1",
   "metadata": {},
   "source": [
    "# Perspective Transformation"
   ]
  },
  {
   "cell_type": "code",
   "execution_count": null,
   "id": "09481c21",
   "metadata": {},
   "outputs": [],
   "source": [
    "image = cv2.imread('/home/soukaina/crosswalk_data/all_images/MP_KSC_001244.jpg')\n",
    "image = cv2.cvtColor(image, cv2.COLOR_BGR2RGB)\n",
    "plt.figure(figsize=(20, 20))\n",
    "plt.subplot(1, 2, 1)\n",
    "plt.title(\"Original\")\n",
    "plt.imshow(image)\n",
    "points_A = np.float32([[320,15], [700,215], [85,610], [530,780]])\n",
    "points_B = np.float32([[0,0], [420,0], [0,594], [420,594]])\n",
    "M = cv2.getPerspectiveTransform(points_A, points_B)\n",
    "warped = cv2.warpPerspective(image, M, (420,594))\n",
    "plt.subplot(1, 2, 2)\n",
    "plt.title(\"warpPerspective\")\n",
    "plt.imshow(warped)"
   ]
  },
  {
   "cell_type": "markdown",
   "id": "a5a68758",
   "metadata": {},
   "source": [
    "# Scaling, Interpolations, And Re-Sizing"
   ]
  },
  {
   "cell_type": "code",
   "execution_count": null,
   "id": "45de44d5",
   "metadata": {},
   "outputs": [],
   "source": [
    "import matplotlib.pyplot as plt\n",
    "\n",
    "\n",
    "image = cv2.imread('/home/soukaina/crosswalk_data/all_images/MP_KSC_001244.jpg')\n",
    "image = cv2.cvtColor(image, cv2.COLOR_BGR2RGB)\n",
    "plt.figure(figsize=(20, 20))\n",
    "plt.subplot(2, 2, 1)\n",
    "plt.title(\"Original\")\n",
    "plt.imshow(image)\n",
    "image_scaled = cv2.resize(image, None, fx=0.75, fy=0.75)\n",
    "plt.subplot(2, 2, 2)\n",
    "plt.title(\"Scaling - Linear Interpolation\")\n",
    "plt.imshow(image_scaled)\n",
    "img_scaled = cv2.resize(image, None, fx=2, fy=2, interpolation = cv2.INTER_CUBIC)\n",
    "plt.subplot(2, 2, 3)\n",
    "plt.title(\"Scaling - Cubic Interpolation\")\n",
    "plt.imshow(img_scaled)\n",
    "img_scaled = cv2.resize(image, (900, 400), interpolation = cv2.INTER_AREA)\n",
    "plt.subplot(2, 2, 4)\n",
    "plt.title(\"Scaling - Skewed Size\")\n",
    "plt.imshow(img_scaled)\n"
   ]
  },
  {
   "cell_type": "markdown",
   "id": "1e3bd903",
   "metadata": {},
   "source": [
    "# Thresholding, Adaptive Thresholding, And Binarization"
   ]
  },
  {
   "cell_type": "code",
   "execution_count": null,
   "id": "8d5c2587",
   "metadata": {},
   "outputs": [],
   "source": [
    "#Load our new image\n",
    "image = cv2.imread('/home/soukaina/crosswalk_data/all_images/MP_KSC_001244.jpg', 0)\n",
    "plt.figure(figsize=(30, 30))\n",
    "plt.subplot(3, 2, 1)\n",
    "plt.title(\"Original\")\n",
    "plt.imshow(image)\n",
    "ret,thresh1 = cv2.threshold(image, 127, 255, cv2.THRESH_BINARY)\n",
    "plt.subplot(3, 2, 2)\n",
    "plt.title(\"Threshold Binary\")\n",
    "plt.imshow(thresh1)\n",
    "image = cv2.GaussianBlur(image, (3, 3), 0)\n",
    "thresh = cv2.adaptiveThreshold(image, 255, cv2.ADAPTIVE_THRESH_MEAN_C, cv2.THRESH_BINARY, 3, 5) \n",
    "plt.subplot(3, 2, 3)\n",
    "plt.title(\"Adaptive Mean Thresholding\")\n",
    "plt.imshow(thresh)\n",
    "_, th2 = cv2.threshold(image, 0, 255, cv2.THRESH_BINARY + cv2.THRESH_OTSU)\n",
    "plt.subplot(3, 2, 4)\n",
    "plt.title(\"Otsu's Thresholding\")\n",
    "plt.imshow(th2)\n",
    "plt.subplot(3, 2, 5)\n",
    "blur = cv2.GaussianBlur(image, (5,5), 0)\n",
    "_, th3 = cv2.threshold(blur, 0, 255, cv2.THRESH_BINARY + cv2.THRESH_OTSU)\n",
    "plt.title(\"Guassian Otsu's Thresholding\")\n",
    "plt.imshow(th3)\n",
    "plt.show()"
   ]
  },
  {
   "cell_type": "markdown",
   "id": "33551829",
   "metadata": {},
   "source": [
    "# Sharpening"
   ]
  },
  {
   "cell_type": "code",
   "execution_count": null,
   "id": "e1a5a54c",
   "metadata": {},
   "outputs": [],
   "source": [
    "image = cv2.imread('/home/soukaina/crosswalk_data/all_images/MP_KSC_001244.jpg')\n",
    "image = cv2.cvtColor(image, cv2.COLOR_BGR2RGB)\n",
    "plt.figure(figsize=(20, 20))\n",
    "plt.subplot(1, 2, 1)\n",
    "plt.title(\"Original\")\n",
    "plt.imshow(image)\n",
    "kernel_sharpening = np.array([[-1,-1,-1], \n",
    "                              [-1,9,-1], \n",
    "                              [-1,-1,-1]])\n",
    "sharpened = cv2.filter2D(image, -1, kernel_sharpening)\n",
    "plt.subplot(1, 2, 2)\n",
    "plt.title(\"Image Sharpening\")\n",
    "plt.imshow(sharpened)\n",
    "plt.show()"
   ]
  },
  {
   "cell_type": "markdown",
   "id": "469c57eb",
   "metadata": {},
   "source": [
    "# Blurring"
   ]
  },
  {
   "cell_type": "code",
   "execution_count": null,
   "id": "fe46c920",
   "metadata": {},
   "outputs": [],
   "source": [
    "\n",
    "image = cv2.imread('/home/soukaina/crosswalk_data/all_images/MP_KSC_001244.jpg')\n",
    "image = cv2.cvtColor(image, cv2.COLOR_BGR2RGB)\n",
    "plt.figure(figsize=(20, 20))\n",
    "plt.subplot(2, 2, 1)\n",
    "plt.title(\"Original\")\n",
    "plt.imshow(image)\n",
    "kernel_3x3 = np.ones((3, 3), np.float32) / 9\n",
    "blurred = cv2.filter2D(image, -1, kernel_3x3)\n",
    "plt.subplot(2, 2, 2)\n",
    "plt.title(\"3x3 Kernel Blurring\")\n",
    "plt.imshow(blurred)\n",
    "kernel_7x7 = np.ones((7, 7), np.float32) / 49\n",
    "blurred2 = cv2.filter2D(image, -1, kernel_7x7)\n",
    "plt.subplot(2, 2, 3)\n",
    "plt.title(\"7x7 Kernel Blurring\")\n",
    "plt.imshow(blurred2)"
   ]
  },
  {
   "cell_type": "markdown",
   "id": "5439d04a",
   "metadata": {},
   "source": [
    "# Contours"
   ]
  },
  {
   "cell_type": "code",
   "execution_count": null,
   "id": "9d064ced",
   "metadata": {},
   "outputs": [],
   "source": [
    "#Load the data\n",
    "image = cv2.imread('/home/soukaina/crosswalk_data/all_images/MP_KSC_001244.jpg')\n",
    "image = cv2.cvtColor(image, cv2.COLOR_BGR2RGB)\n",
    "plt.figure(figsize=(20, 20))\n",
    "plt.subplot(2, 2, 1)\n",
    "plt.title(\"Original\")\n",
    "plt.imshow(image)\n",
    "# Grayscale\n",
    "gray = cv2.cvtColor(image,cv2.COLOR_BGR2GRAY)\n",
    "# Canny edges\n",
    "edged = cv2.Canny(gray, 30, 200)\n",
    "plt.subplot(2, 2, 2)\n",
    "plt.title(\"Canny Edges\")\n",
    "plt.imshow(edged)\n",
    "# Finding Contours\n",
    "contour,hier = cv2.findContours(edged, cv2.RETR_EXTERNAL, cv2.CHAIN_APPROX_NONE)\n",
    "plt.subplot(2, 2, 3)\n",
    "plt.imshow(edged)\n",
    "print(\"Count of Contours  = \" + str(len(contour)))\n",
    "# All contours\n",
    "cv2.drawContours(image, contour, -1, (0,255,0), 3)\n",
    "plt.subplot(2, 2, 4)\n",
    "plt.title(\"Contours\")\n",
    "plt.imshow(image)"
   ]
  },
  {
   "cell_type": "markdown",
   "id": "6732cef2",
   "metadata": {},
   "source": [
    "# Line Detection Using Hough Lines"
   ]
  },
  {
   "cell_type": "code",
   "execution_count": null,
   "id": "9691690f",
   "metadata": {},
   "outputs": [],
   "source": [
    "# Load the image\n",
    "image = cv2.imread('/home/soukaina/crosswalk_data/all_images/MP_KSC_001244.jpg')\n",
    "image = cv2.cvtColor(image, cv2.COLOR_BGR2RGB)\n",
    "plt.figure(figsize=(20, 20))\n",
    "# Grayscale \n",
    "gray = cv2.cvtColor(image, cv2.COLOR_BGR2GRAY)\n",
    "# Canny Edges\n",
    "edges = cv2.Canny(gray, 100, 170, apertureSize = 3)\n",
    "plt.subplot(2, 2, 1)\n",
    "plt.title(\"edges\")\n",
    "plt.imshow(edges)\n",
    "# Run HoughLines Fucntion \n",
    "lines = cv2.HoughLines(edges, 1, np.pi/180, 200)\n",
    "# Run for loop through each line\n",
    "for line in lines:\n",
    "    rho, theta = line[0]\n",
    "    a = np.cos(theta)\n",
    "    b = np.sin(theta)\n",
    "    x0 = a * rho\n",
    "    y0 = b * rho\n",
    "    x_1 = int(x0 + 1000 * (-b))\n",
    "    y_1 = int(y0 + 1000 * (a))\n",
    "    x_2 = int(x0 - 1000 * (-b))\n",
    "    y_2 = int(y0 - 1000 * (a))\n",
    "    cv2.line(image, (x_1, y_1), (x_2, y_2), (255, 0, 0), 2)\n",
    "# Show Final output\n",
    "plt.subplot(2, 2, 2)\n",
    "plt.imshow(image)"
   ]
  },
  {
   "cell_type": "code",
   "execution_count": null,
   "id": "712479b5",
   "metadata": {},
   "outputs": [],
   "source": []
  }
 ],
 "metadata": {
  "kernelspec": {
   "display_name": "Python 3 (ipykernel)",
   "language": "python",
   "name": "python3"
  },
  "language_info": {
   "codemirror_mode": {
    "name": "ipython",
    "version": 3
   },
   "file_extension": ".py",
   "mimetype": "text/x-python",
   "name": "python",
   "nbconvert_exporter": "python",
   "pygments_lexer": "ipython3",
   "version": "3.8.10"
  }
 },
 "nbformat": 4,
 "nbformat_minor": 5
}
