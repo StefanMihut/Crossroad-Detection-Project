{
 "cells": [
  {
   "cell_type": "markdown",
   "id": "72d3448f",
   "metadata": {},
   "source": [
    "##### This notebook creates the annotation (txt) file from the given csv file required as an input to the Yolo v4"
   ]
  },
  {
   "cell_type": "code",
   "execution_count": null,
   "id": "32693c1d",
   "metadata": {},
   "outputs": [],
   "source": [
    "import pandas as pd\n",
    "import os"
   ]
  },
  {
   "cell_type": "code",
   "execution_count": null,
   "id": "383c7dca",
   "metadata": {},
   "outputs": [],
   "source": [
    "data = pd.read_csv('D:\\\\Pragati\\\\crossroad-detection\\\\data\\\\crosswalk_data\\\\all_annotations_v2.csv')\n",
    "data.head()"
   ]
  },
  {
   "cell_type": "code",
   "execution_count": null,
   "id": "51b7cc8e",
   "metadata": {},
   "outputs": [],
   "source": [
    "data = data[data['label']=='Zebra_Cross']\n",
    "data.head()"
   ]
  },
  {
   "cell_type": "code",
   "execution_count": null,
   "id": "42032524",
   "metadata": {},
   "outputs": [],
   "source": [
    "#calculate the center for x and y\n",
    "\n",
    "data['center_x'] = (data['xmax'] + data['xmin']) / 2\n",
    "data['center_y'] = (data['ymax'] + data['ymin']) / 2\n",
    "\n",
    "#calculate the height and width of the crosswalk\n",
    "data['cw_width'] = (data['xmax'] - data['xmin'])\n",
    "data['cw_height'] = (data['ymax'] - data['ymin'])\n",
    "\n",
    "data.head()"
   ]
  },
  {
   "cell_type": "code",
   "execution_count": null,
   "id": "63b53788",
   "metadata": {},
   "outputs": [],
   "source": [
    "data['class_number'] = 0\n",
    "data.head()"
   ]
  },
  {
   "cell_type": "code",
   "execution_count": null,
   "id": "a8a3b96b",
   "metadata": {},
   "outputs": [],
   "source": [
    "# Normalize the values with image height and width\n",
    "data['center_x'] = data['center_x'] / data['imageWidth']\n",
    "data['center_y'] = data['center_y'] / data['imageHeight']\n",
    "\n",
    "data['cw_width'] = data['cw_width'] / data['imageWidth']\n",
    "data['cw_height'] = data['cw_height'] / data['imageHeight']\n",
    "\n",
    "data.head()"
   ]
  },
  {
   "cell_type": "code",
   "execution_count": null,
   "id": "b168ac09",
   "metadata": {},
   "outputs": [],
   "source": [
    "# remove the extendion from the imagePath\n",
    "data['image_name'] = data['imagePath'].str.rstrip('.jpg')\n",
    "data.head()"
   ]
  },
  {
   "cell_type": "code",
   "execution_count": null,
   "id": "74736576",
   "metadata": {},
   "outputs": [],
   "source": [
    "yolo_values = data.loc[:, ['image_name','class_number','center_x','center_y','cw_width','cw_height']]\n",
    "yolo_values.head()"
   ]
  },
  {
   "cell_type": "code",
   "execution_count": null,
   "id": "233c1aca",
   "metadata": {},
   "outputs": [],
   "source": [
    "image_dir = 'D:\\\\Pragati\\\\crossroad-detection\\\\data\\\\crosswalk_data\\\\images'\n",
    "for file in os.listdir(image_dir):\n",
    "    if not file.startswith('.'):\n",
    "        # Extract the filename without extension so the the corresponding txt file can be generated with the same name\n",
    "        image_title = file[:-4]\n",
    "        # Get matching data\n",
    "        yolo_file = yolo_values.loc[yolo_values['image_name'] == image_title]\n",
    "        \n",
    "        df = yolo_file.loc[:, ['class_number','center_x','center_y','cw_width','cw_height']].copy()\n",
    "        \n",
    "        save_path = image_dir + '/' + image_title + '.txt'\n",
    "        \n",
    "        df.to_csv(save_path, header=False, index=False, sep=' ')\n"
   ]
  },
  {
   "cell_type": "code",
   "execution_count": null,
   "id": "07106ec3",
   "metadata": {},
   "outputs": [],
   "source": []
  }
 ],
 "metadata": {
  "kernelspec": {
   "display_name": "tf",
   "language": "python",
   "name": "tf"
  },
  "language_info": {
   "codemirror_mode": {
    "name": "ipython",
    "version": 3
   },
   "file_extension": ".py",
   "mimetype": "text/x-python",
   "name": "python",
   "nbconvert_exporter": "python",
   "pygments_lexer": "ipython3",
   "version": "3.10.2"
  }
 },
 "nbformat": 4,
 "nbformat_minor": 5
}
